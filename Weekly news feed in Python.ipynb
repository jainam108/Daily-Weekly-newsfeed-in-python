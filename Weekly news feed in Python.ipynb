{
 "cells": [
  {
   "cell_type": "code",
   "execution_count": 1,
   "metadata": {},
   "outputs": [
    {
     "name": "stdout",
     "output_type": "stream",
     "text": [
      "--------------------------------------------------\n",
      "Title-- Market LIVE Update: Sensex sheds nearly 200 pts, Nifty ...\n",
      "Date/Time-- 24 mins ago\n",
      "Description-- Stock Market LIVE Update: Benchmark Indian equity indices were down over 0.35% on Tuesday. At 2:58 pm, the Sensex was at 52,537.76, down 197.83 points, ...\n",
      "Link-- https://www.livemint.com/market/live-blog/share-market-live-updates-sensex-nifty-bse-nse-stock-market-today-29-06-2021-11624931724173.html\n",
      "--------------------------------------------------\n",
      "Title-- Soaring Pump Prices Pose Threat to Indian Recovery and ...\n",
      "Date/Time-- 45 mins ago\n",
      "Description-- Soaring Pump Prices Pose Threat to Indian Recovery and Inflation ... Sachs Group Inc. sees “significant upside risk” for the market over the next few months. ... “Driving the car is now a luxury for me,” said Srivastava, who turned to stock trading ...\n",
      "Link-- https://www.bloombergquint.com/global-economics/soaring-pump-prices-pose-threat-to-indian-recovery-and-inflation\n",
      "--------------------------------------------------\n",
      "Title-- Stock movers on June 29: Marico, Godrej Agrovet, GIC ...\n",
      "Date/Time-- 1 hour ago\n",
      "Description-- BAJAJ HEALTHCARE: Stock soars to record high as it requests the Indian Patent Office to grant a compulsory license for manufacturing and supply of COVID-19 ...\n",
      "Link-- https://www.timesnownews.com/business-economy/markets/article/stock-movers-on-june-29-marico-godrej-agrovet-gic-housing-indian-bank-bajaj-health/777563\n",
      "--------------------------------------------------\n",
      "Title-- Stock Market Live Updates: Sensex Off Day'S Low, Nifty ...\n",
      "Date/Time-- 1 hour ago\n",
      "Description-- Stock Market Live Updates: Indian equity indices, Sensex and Nifty are trading lower on Tuesday afternoon dragged by selling banking, metals and auto stocks.\n",
      "Link-- https://www.cnbctv18.com/market/stocks/stock-market-live-updates-sensex-today-nifty-markets-trading-business-fm-nirmala-sitharaman-relief-measures-hdfc-life-aditya-birla-capital-rites-9811791.htm\n",
      "--------------------------------------------------\n",
      "Title-- Indian Oil Corporation Ltd drops for fifth straight sessions\n",
      "Date/Time-- 1 hour ago\n",
      "Description-- The PE of the stock is 4.78 based on TTM earnings ending March 21. Powered by Capital Market - Live News. (This story has not been edited by Business ...\n",
      "Link-- https://www.business-standard.com/article/news-cm/indian-oil-corporation-ltd-drops-for-fifth-straight-session-121062900836_1.html\n",
      "--------------------------------------------------\n",
      "Title-- Graphite India, Godrej Group & Tourism Stocks to Newgen ...\n",
      "Date/Time-- 1 hour ago\n",
      "Description-- Graphite India, Godrej Group & Tourism Stocks to Newgen Software - here are top Buzzing Stocks today. Domestic markets were trading low in Tuesday's noon ...\n",
      "Link-- https://www.zeebiz.com/market-news/news-graphite-india-godrej-group-tourism-stocks-to-newgen-software-here-are-top-buzzing-stocks-today-159542\n",
      "--------------------------------------------------\n",
      "Title-- Sensex down 122 points intraday, Nifty below 15800, as ...\n",
      "Date/Time-- 1 hour ago\n",
      "Description-- However, gains in FMCG and Pharma stocks helped markets stay in a range. ... Indian equity benchmarks remained in negative territory, tracking Asian peers.\n",
      "Link-- https://www.thehindubusinessline.com/markets/stock-markets/sensex-down-122-points-intraday-nifty-below-15800-as-metals-and-financials-drag/article35031806.ece\n",
      "--------------------------------------------------\n",
      "Title-- Nifty 50 struggles below 15,800-mark; banks, financial stocks ...\n",
      "Date/Time-- 2 hours ago\n",
      "Description-- Further, PSU Bank also under pressure in the noon trade with Indian Bank fell 5%. The stock slumped on Tuesday after the listing of shares allotted under qualified ...\n",
      "Link-- https://www.indiainfoline.com/article/commentaries-equity-running-market/nifty-50-struggles-below-15-800-mark-banks-financial-stocks-drag-121062900365_1.html\n",
      "--------------------------------------------------\n",
      "Title-- IRCTC Share Price: IRCTC Stock Price, IRCTC Historical ...\n",
      "Date/Time-- 2 hours ago\n",
      "Description-- Indian Railway Catering and Tourism Corporation shares hit a new 52-week high of ... Since listing, IRCTC stocks have zoomed over three times or 230 per cent, ...\n",
      "Link-- https://www.financialexpress.com/market/irctc-indian-railway-catering-and-tourism-corporation-share-price-latest-update/2280399/\n",
      "--------------------------------------------------\n",
      "Title-- India Pesticides IPO -- How to check allotment status, listing ...\n",
      "Date/Time-- 2 hours ago\n",
      "Description-- Amazon Shopping · Cryptocurrency · Tech · Business. Link Copied. Home›; stock market›; news»; India Pesticides IPO -- How to check allotment status, listing ...\n",
      "Link-- https://www.businessinsider.in/stock-market/news/how-to-check-india-pesticides-ipo-allotment-status-listing-date-and-more/articleshow/83946948.cms\n"
     ]
    }
   ],
   "source": [
    "from GoogleNews import GoogleNews\n",
    "googlenews = GoogleNews(period = '7d')\n",
    "googlenews.search(\"Indian stock Market\")\n",
    "result=googlenews.result()\n",
    "for x in result:\n",
    "    print(\"-\"*50)\n",
    "    print(\"Title--\", x[\"title\"])\n",
    "    print(\"Date/Time--\",x[\"date\"])\n",
    "    print(\"Description--\", x[\"desc\"])\n",
    "    print(\"Link--\", x[\"link\"])"
   ]
  },
  {
   "cell_type": "code",
   "execution_count": null,
   "metadata": {},
   "outputs": [],
   "source": []
  }
 ],
 "metadata": {
  "kernelspec": {
   "display_name": "Python 3",
   "language": "python",
   "name": "python3"
  },
  "language_info": {
   "codemirror_mode": {
    "name": "ipython",
    "version": 3
   },
   "file_extension": ".py",
   "mimetype": "text/x-python",
   "name": "python",
   "nbconvert_exporter": "python",
   "pygments_lexer": "ipython3",
   "version": "3.8.5"
  }
 },
 "nbformat": 4,
 "nbformat_minor": 4
}
